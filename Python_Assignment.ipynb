{
  "nbformat": 4,
  "nbformat_minor": 0,
  "metadata": {
    "colab": {
      "provenance": [],
      "toc_visible": true
    },
    "kernelspec": {
      "name": "python3",
      "display_name": "Python 3"
    },
    "language_info": {
      "name": "python"
    }
  },
  "cells": [
    {
      "cell_type": "markdown",
      "source": [
        "Theory Solutions"
      ],
      "metadata": {
        "id": "5KR3uG0tFwsG"
      }
    },
    {
      "cell_type": "markdown",
      "source": [
        "1.What is Python, and why is it popular\n",
        "  - Python is an open-source, high-level programming language known for its simple syntax and wide range of applications\n",
        "  -It is popular because\n",
        "   a. It is easy to learn\n",
        "   b. It has wide range of Libraries.\n",
        "   c.It can be used in trending fields like Machine learning,Data analytics.\n"
      ],
      "metadata": {
        "id": "nxV5vKQXFwGP"
      }
    },
    {
      "cell_type": "markdown",
      "source": [
        "2.What is an interpreter in Python\n",
        "  - An interpreter is a special program that reads and executes your code line by line.\n",
        "  -for example, if i write Print('Hello , World!')\n",
        "  it prints the 'Hello,World!' this is the interpreter ,reading and executing a code."
      ],
      "metadata": {
        "id": "EWfu753aFwCp"
      }
    },
    {
      "cell_type": "markdown",
      "source": [
        "3.What are pre-defined keywords in Python\n",
        "  - Pre-defined keywords are the word that hold a specific meaning and have specific purpose.\n",
        "  -For example: Print , type, finally, True ,False.\n"
      ],
      "metadata": {
        "id": "wvhMrtK3Fv_d"
      }
    },
    {
      "cell_type": "markdown",
      "source": [
        "4.Can keywords be used as variable names\n",
        "  - No, As Keywords hold their own specific meaning and purpose they can't be use as variable names."
      ],
      "metadata": {
        "id": "6RFXXRPXFv8J"
      }
    },
    {
      "cell_type": "markdown",
      "source": [
        "5.What is mutability in Python\n",
        "  - Mutability is a concept which indicates the change in the value of the particular Data structure, basically mutability is a change which can be edited.\n",
        "  -Example: List,Sets, Dictionaries."
      ],
      "metadata": {
        "id": "R_Y7WbjiFv5L"
      }
    },
    {
      "cell_type": "markdown",
      "source": [
        "6.Why are lists mutable, but tuples are immutable\n",
        "   - Lists are basically used to store heterogenous data which is intended to be changed as per the condition. also list supports item assignment.\n",
        "   - But Tuples are used to store the heterogenous data which is not intended to be changed as it contains the data which cannot be changed once generated , example-Aadhar card no. , Pan card details.\n",
        "\n",
        "\n",
        "\n"
      ],
      "metadata": {
        "id": "kj6Gy--5Fv2R"
      }
    },
    {
      "cell_type": "markdown",
      "source": [
        "7. What is the difference between “==” and “is” operators in Python\n",
        "   - '==' is considered as the comparision operator, it is basically used to compare the two variables to which a particular values are assigned. example: a='Hello' b='hello' a==b.upper()\n",
        "   - 'is' operator it is considered as identifying operator which is basically used to compare the location of two objects. example: a=2 , b=5  so a is b if you run this answer will be boolean value  i.e False. So this is the concept.\n",
        "\n",
        "\n"
      ],
      "metadata": {
        "id": "QSbHhEJSFvzD"
      }
    },
    {
      "cell_type": "markdown",
      "source": [
        "8.What are logical operators in Python\n",
        "  - These include 'And' , 'Or' which are basically used to combine conditional statement and give their values in the Boolean form , i.e either True/False based on condition given.\n"
      ],
      "metadata": {
        "id": "JrZlfLrPFvvq"
      }
    },
    {
      "cell_type": "markdown",
      "source": [
        "9.What is type casting in Python\n",
        "   - The process of changing the data type of the object or value , this concept arises because there can be data mismatch or manipulated while executing computation by using diffferent operators.\n",
        "   - It is of two types Implicit and Explicit.\n"
      ],
      "metadata": {
        "id": "WPXFRt7mFvsG"
      }
    },
    {
      "cell_type": "markdown",
      "source": [
        "10.What is the difference between implicit and explicit type casting\n",
        "   - Implicit type casting refers that python understand the data type already.for example: Whether it is a 'float' value or 'integer'\n",
        "   -Explicit type casting refers that the conversion of data type using in built function like conversion of 'float' value to 'string' value\n"
      ],
      "metadata": {
        "id": "RgQsv2p_Fvoi"
      }
    },
    {
      "cell_type": "markdown",
      "source": [
        "11.What is the purpose of conditional statements in Python\n",
        "   - It is basically used to control the flow in python that governs the order in which the code will be executed on the basis of implementing logic\n",
        "   - Basically conditional statements are used to code decisions on the basis of pre-defined situation.\n",
        "   -'if' , 'elif', 'else'.\n"
      ],
      "metadata": {
        "id": "lzkAWeETFvku"
      }
    },
    {
      "cell_type": "markdown",
      "source": [
        "12.How does the elif statement work\n",
        "  - The 'elif' situation is basically used to check the multiple conditions in a organized way.\n",
        "  - if 1st situation is true the code get executed but if not the other situation is analyzed and it get's executed, as per the assigned values or condtition.\n"
      ],
      "metadata": {
        "id": "A03MQn92FvfM"
      }
    },
    {
      "cell_type": "markdown",
      "source": [
        "13.What is the difference between while and for loops?\n",
        "   - While Loop executes  repeatedly a block of code until a code situation is met.\n",
        "   - for loop iterate over a sequence of elements like of 'strings' , 'list'.\n"
      ],
      "metadata": {
        "id": "UlRQrwAzFvVC"
      }
    },
    {
      "cell_type": "markdown",
      "source": [
        "14.Describe a scenario where a while loop is more suitable than a for loop.\n",
        "- correct_password = \"magic123\"\n",
        "user_input = \"\"\n",
        "\n",
        "while user_input != correct_password:\n",
        "    user_input = input(\"Enter password: \")\n",
        "\n",
        "print(\"Access granted!\")\n",
        "so in case of while loop the user don't know how many attempts will be required to met a specific condition.\n",
        "\n",
        "- For Loop\n",
        "ingredients = [\"Lactose\", \"Starch\", \"Magnesium Stearate\", \"Talc\"]\n",
        "\n",
        "for item in ingredients:\n",
        "    print(f\"Checking quality of: {item}\")\n",
        "\n",
        "In this the user has the idea of no. of attempts required to meet a situation as it iterate over a sequence\n",
        "\n",
        "\n",
        "\n"
      ],
      "metadata": {
        "id": "UcthT0-6FvJj"
      }
    },
    {
      "cell_type": "markdown",
      "source": [
        "\n",
        "\n",
        "\n",
        "\n",
        "Practical Solutions:\n"
      ],
      "metadata": {
        "id": "U0Tw0O0XbJ5C"
      }
    },
    {
      "cell_type": "markdown",
      "source": [
        "1. Write a Python Programme to print \"Hello,World!\""
      ],
      "metadata": {
        "id": "ioFvsdGXCmak"
      }
    },
    {
      "cell_type": "code",
      "source": [
        "\n",
        "print(\"Hello,World!\")\n",
        "print\n"
      ],
      "metadata": {
        "id": "I3M-oeL9cG_K",
        "colab": {
          "base_uri": "https://localhost:8080/"
        },
        "outputId": "c26c552f-f22f-40e7-88f7-8462cb837455"
      },
      "execution_count": 1,
      "outputs": [
        {
          "output_type": "stream",
          "name": "stdout",
          "text": [
            "Hello,World!\n"
          ]
        },
        {
          "output_type": "execute_result",
          "data": {
            "text/plain": [
              "<function print(*args, sep=' ', end='\\n', file=None, flush=False)>"
            ]
          },
          "metadata": {},
          "execution_count": 1
        }
      ]
    },
    {
      "cell_type": "markdown",
      "source": [
        "2.write a Python Programme that displays your Age and Name"
      ],
      "metadata": {
        "id": "5AogTzJ0CKsx"
      }
    },
    {
      "cell_type": "code",
      "source": [
        "\n",
        "\n",
        "Name=input(\"Enter your Name\")\n",
        "Age=input(\"Enter Your Age\")\n",
        "\n",
        "\n",
        "\n"
      ],
      "metadata": {
        "id": "PctY1_tQcQti",
        "colab": {
          "base_uri": "https://localhost:8080/"
        },
        "outputId": "67af09f0-d204-4b83-ff18-92f239226788"
      },
      "execution_count": 2,
      "outputs": [
        {
          "name": "stdout",
          "output_type": "stream",
          "text": [
            "Enter your Namepranjal\n",
            "Enter Your Age22\n"
          ]
        }
      ]
    },
    {
      "cell_type": "markdown",
      "source": [
        "3. Write code to print all the pre-defined keywords in Python using the keyword"
      ],
      "metadata": {
        "id": "dMnAzTNvn-Ju"
      }
    },
    {
      "cell_type": "code",
      "source": [
        "\n",
        "help(\"keywords\")\n"
      ],
      "metadata": {
        "id": "3_udwAezshze",
        "colab": {
          "base_uri": "https://localhost:8080/"
        },
        "outputId": "c1734aea-379f-4aa2-a196-bcd1bb3f72d3"
      },
      "execution_count": 3,
      "outputs": [
        {
          "output_type": "stream",
          "name": "stdout",
          "text": [
            "\n",
            "Here is a list of the Python keywords.  Enter any keyword to get more help.\n",
            "\n",
            "False               class               from                or\n",
            "None                continue            global              pass\n",
            "True                def                 if                  raise\n",
            "and                 del                 import              return\n",
            "as                  elif                in                  try\n",
            "assert              else                is                  while\n",
            "async               except              lambda              with\n",
            "await               finally             nonlocal            yield\n",
            "break               for                 not                 \n",
            "\n"
          ]
        }
      ]
    },
    {
      "cell_type": "markdown",
      "source": [
        "\n",
        "\n",
        "\n",
        "3. Create a list and tuple in Python, and demonstrate how attempting to change an element works differently for each\n"
      ],
      "metadata": {
        "id": "HhAkMNwNBPPd"
      }
    },
    {
      "cell_type": "code",
      "source": [
        "l=[1,2,3,\"pranjal\",\"artist\"]\n",
        "l"
      ],
      "metadata": {
        "id": "yPHM1IXdcgyU",
        "colab": {
          "base_uri": "https://localhost:8080/"
        },
        "outputId": "2641dc55-ce83-49fb-fdf1-8a9c6c6027e7"
      },
      "execution_count": 4,
      "outputs": [
        {
          "output_type": "execute_result",
          "data": {
            "text/plain": [
              "[1, 2, 3, 'pranjal', 'artist']"
            ]
          },
          "metadata": {},
          "execution_count": 4
        }
      ]
    },
    {
      "cell_type": "code",
      "source": [
        "type(l)"
      ],
      "metadata": {
        "id": "W6-d_MVGtvsf",
        "colab": {
          "base_uri": "https://localhost:8080/"
        },
        "outputId": "3fda55f3-b826-4a04-d95b-df5b3054f271"
      },
      "execution_count": 5,
      "outputs": [
        {
          "output_type": "execute_result",
          "data": {
            "text/plain": [
              "list"
            ]
          },
          "metadata": {},
          "execution_count": 5
        }
      ]
    },
    {
      "cell_type": "code",
      "source": [
        "l[2]=\"pwskills'\"\n",
        "l"
      ],
      "metadata": {
        "id": "fJ7HySiMtzq5",
        "colab": {
          "base_uri": "https://localhost:8080/"
        },
        "outputId": "67b527b1-2450-4fdb-a9b5-4d5ddc52d42d"
      },
      "execution_count": 6,
      "outputs": [
        {
          "output_type": "execute_result",
          "data": {
            "text/plain": [
              "[1, 2, \"pwskills'\", 'pranjal', 'artist']"
            ]
          },
          "metadata": {},
          "execution_count": 6
        }
      ]
    },
    {
      "cell_type": "code",
      "source": [
        "#for Tuples\n",
        "\n",
        "t=(1,2,4,\"box\",\"pranjal\")\n",
        "t"
      ],
      "metadata": {
        "id": "pJ2knqdr-olD",
        "colab": {
          "base_uri": "https://localhost:8080/"
        },
        "outputId": "2d5c50bd-e205-4c14-9a50-6e2844fdd07c"
      },
      "execution_count": 7,
      "outputs": [
        {
          "output_type": "execute_result",
          "data": {
            "text/plain": [
              "(1, 2, 4, 'box', 'pranjal')"
            ]
          },
          "metadata": {},
          "execution_count": 7
        }
      ]
    },
    {
      "cell_type": "code",
      "source": [
        "type(t)"
      ],
      "metadata": {
        "id": "gRR-n-7Ft5OG",
        "colab": {
          "base_uri": "https://localhost:8080/"
        },
        "outputId": "7d77e833-1b46-499a-b434-f6b96c540bfd"
      },
      "execution_count": 8,
      "outputs": [
        {
          "output_type": "execute_result",
          "data": {
            "text/plain": [
              "tuple"
            ]
          },
          "metadata": {},
          "execution_count": 8
        }
      ]
    },
    {
      "cell_type": "code",
      "source": [
        "t[1]=\"pwskills\"\n"
      ],
      "metadata": {
        "id": "8cVupUia_BmQ",
        "colab": {
          "base_uri": "https://localhost:8080/",
          "height": 141
        },
        "outputId": "55fc2e33-26d0-48c5-e998-7f99cecda65d"
      },
      "execution_count": 9,
      "outputs": [
        {
          "output_type": "error",
          "ename": "TypeError",
          "evalue": "'tuple' object does not support item assignment",
          "traceback": [
            "\u001b[0;31m---------------------------------------------------------------------------\u001b[0m",
            "\u001b[0;31mTypeError\u001b[0m                                 Traceback (most recent call last)",
            "\u001b[0;32m<ipython-input-9-34d84c99f608>\u001b[0m in \u001b[0;36m<cell line: 0>\u001b[0;34m()\u001b[0m\n\u001b[0;32m----> 1\u001b[0;31m \u001b[0mt\u001b[0m\u001b[0;34m[\u001b[0m\u001b[0;36m1\u001b[0m\u001b[0;34m]\u001b[0m\u001b[0;34m=\u001b[0m\u001b[0;34m\"pwskills\"\u001b[0m\u001b[0;34m\u001b[0m\u001b[0;34m\u001b[0m\u001b[0m\n\u001b[0m",
            "\u001b[0;31mTypeError\u001b[0m: 'tuple' object does not support item assignment"
          ]
        }
      ]
    },
    {
      "cell_type": "code",
      "source": [
        "#thus tuple does not support item assignment hence variables cannot be changed"
      ],
      "metadata": {
        "id": "dtGIcCzT_OaP"
      },
      "execution_count": null,
      "outputs": []
    },
    {
      "cell_type": "markdown",
      "source": [
        "4.Write code to print all the pre-defined keywords in Python using the keyword library.\n",
        "\n"
      ],
      "metadata": {
        "id": "l1KDU0mtBDa8"
      }
    },
    {
      "cell_type": "code",
      "source": [
        "import keyword\n",
        "Keyword=input(\"enter the keyword\")\n",
        "keyword.iskeyword(keyword)\n",
        "print(\"keyword\")\n"
      ],
      "metadata": {
        "id": "FsQGycOY_Gmd"
      },
      "execution_count": null,
      "outputs": []
    },
    {
      "cell_type": "markdown",
      "source": [
        "5. Write a function to demonstrate the behavior of mutable and immutable arguments.\n"
      ],
      "metadata": {
        "id": "-LxCX30IDrSS"
      }
    },
    {
      "cell_type": "code",
      "source": [
        "#mutable objects >>can be changed >>List, Sets\n",
        "\n",
        "l=[1,5,7,\"Artist\", \"data analyst\"]\n",
        "l"
      ],
      "metadata": {
        "id": "M2PDgjCYD0wV",
        "colab": {
          "base_uri": "https://localhost:8080/"
        },
        "outputId": "40216be8-7b09-4664-d1fa-c1ac01a6a08d"
      },
      "execution_count": 10,
      "outputs": [
        {
          "output_type": "execute_result",
          "data": {
            "text/plain": [
              "[1, 5, 7, 'Artist', 'data analyst']"
            ]
          },
          "metadata": {},
          "execution_count": 10
        }
      ]
    },
    {
      "cell_type": "code",
      "source": [
        "l[4]=\"data science\"\n",
        "l"
      ],
      "metadata": {
        "id": "u9k2OqfWEM0S",
        "colab": {
          "base_uri": "https://localhost:8080/"
        },
        "outputId": "6b6a72bb-426b-416b-d235-767edb2f0755"
      },
      "execution_count": 11,
      "outputs": [
        {
          "output_type": "execute_result",
          "data": {
            "text/plain": [
              "[1, 5, 7, 'Artist', 'data science']"
            ]
          },
          "metadata": {},
          "execution_count": 11
        }
      ]
    },
    {
      "cell_type": "code",
      "source": [
        "s={1,2,2,4,6,6,\"python\",\"tools\"}\n",
        "s"
      ],
      "metadata": {
        "id": "fOvVXflqEd8z",
        "colab": {
          "base_uri": "https://localhost:8080/"
        },
        "outputId": "de80ea9b-6669-4186-d43b-245b82baf3bf"
      },
      "execution_count": 12,
      "outputs": [
        {
          "output_type": "execute_result",
          "data": {
            "text/plain": [
              "{1, 2, 4, 6, 'python', 'tools'}"
            ]
          },
          "metadata": {},
          "execution_count": 12
        }
      ]
    },
    {
      "cell_type": "code",
      "source": [
        "s.add(\"google coolab\")\n",
        "s"
      ],
      "metadata": {
        "id": "fuPe5eEOEn-g",
        "colab": {
          "base_uri": "https://localhost:8080/"
        },
        "outputId": "fa5c1e45-4878-4357-a463-0796097a1b3b"
      },
      "execution_count": 13,
      "outputs": [
        {
          "output_type": "execute_result",
          "data": {
            "text/plain": [
              "{1, 2, 4, 6, 'google coolab', 'python', 'tools'}"
            ]
          },
          "metadata": {},
          "execution_count": 13
        }
      ]
    },
    {
      "cell_type": "code",
      "source": [
        "#immutable objects >>cannot be changed>> Strings, Tuple\n",
        "\n",
        "a=\"pranjal\"\n",
        "a"
      ],
      "metadata": {
        "id": "FI0LU0JNFJ54",
        "colab": {
          "base_uri": "https://localhost:8080/",
          "height": 36
        },
        "outputId": "eeeb579b-872b-4103-dbc7-589a6534a753"
      },
      "execution_count": 14,
      "outputs": [
        {
          "output_type": "execute_result",
          "data": {
            "text/plain": [
              "'pranjal'"
            ],
            "application/vnd.google.colaboratory.intrinsic+json": {
              "type": "string"
            }
          },
          "metadata": {},
          "execution_count": 14
        }
      ]
    },
    {
      "cell_type": "code",
      "source": [
        "type(a)"
      ],
      "metadata": {
        "id": "WftopPm1FBLM",
        "colab": {
          "base_uri": "https://localhost:8080/"
        },
        "outputId": "e7f8308d-19df-42f9-e62f-9a3e73f1d0f2"
      },
      "execution_count": 15,
      "outputs": [
        {
          "output_type": "execute_result",
          "data": {
            "text/plain": [
              "str"
            ]
          },
          "metadata": {},
          "execution_count": 15
        }
      ]
    },
    {
      "cell_type": "code",
      "source": [
        "a[0]\n",
        "a"
      ],
      "metadata": {
        "id": "yYQhGTb6FjCh",
        "colab": {
          "base_uri": "https://localhost:8080/",
          "height": 36
        },
        "outputId": "09020b69-f1f7-4a66-b8c6-cd4d3f6da243"
      },
      "execution_count": 16,
      "outputs": [
        {
          "output_type": "execute_result",
          "data": {
            "text/plain": [
              "'pranjal'"
            ],
            "application/vnd.google.colaboratory.intrinsic+json": {
              "type": "string"
            }
          },
          "metadata": {},
          "execution_count": 16
        }
      ]
    },
    {
      "cell_type": "code",
      "source": [
        "a[0]=\"k\""
      ],
      "metadata": {
        "id": "Auup2L1vFq9-",
        "colab": {
          "base_uri": "https://localhost:8080/",
          "height": 141
        },
        "outputId": "941e4ecf-5297-41f8-f841-3313bd289881"
      },
      "execution_count": 17,
      "outputs": [
        {
          "output_type": "error",
          "ename": "TypeError",
          "evalue": "'str' object does not support item assignment",
          "traceback": [
            "\u001b[0;31m---------------------------------------------------------------------------\u001b[0m",
            "\u001b[0;31mTypeError\u001b[0m                                 Traceback (most recent call last)",
            "\u001b[0;32m<ipython-input-17-3ee4df2c7c93>\u001b[0m in \u001b[0;36m<cell line: 0>\u001b[0;34m()\u001b[0m\n\u001b[0;32m----> 1\u001b[0;31m \u001b[0ma\u001b[0m\u001b[0;34m[\u001b[0m\u001b[0;36m0\u001b[0m\u001b[0;34m]\u001b[0m\u001b[0;34m=\u001b[0m\u001b[0;34m\"k\"\u001b[0m\u001b[0;34m\u001b[0m\u001b[0;34m\u001b[0m\u001b[0m\n\u001b[0m",
            "\u001b[0;31mTypeError\u001b[0m: 'str' object does not support item assignment"
          ]
        }
      ]
    },
    {
      "cell_type": "code",
      "source": [
        "#string does not support item assignmnet"
      ],
      "metadata": {
        "id": "QrDxO3reFxK-"
      },
      "execution_count": null,
      "outputs": []
    },
    {
      "cell_type": "markdown",
      "source": [
        "7.Write a program that performs basic arithmetic operations on two user-input numbers.\n",
        "\n"
      ],
      "metadata": {
        "id": "4wLyoq19GBfL"
      }
    },
    {
      "cell_type": "code",
      "source": [
        "a=67\n",
        "b=34\n",
        "#addition\n",
        "a+b"
      ],
      "metadata": {
        "id": "icR0vMe7GSFm",
        "colab": {
          "base_uri": "https://localhost:8080/"
        },
        "outputId": "93a08904-9ec0-47f5-8a05-467a91f0c926"
      },
      "execution_count": 18,
      "outputs": [
        {
          "output_type": "execute_result",
          "data": {
            "text/plain": [
              "101"
            ]
          },
          "metadata": {},
          "execution_count": 18
        }
      ]
    },
    {
      "cell_type": "code",
      "source": [
        "#substraction\n",
        "a-b"
      ],
      "metadata": {
        "id": "fDyADOGcGaIK",
        "colab": {
          "base_uri": "https://localhost:8080/"
        },
        "outputId": "1b156d16-0280-4b0f-922c-d810054eec26"
      },
      "execution_count": 19,
      "outputs": [
        {
          "output_type": "execute_result",
          "data": {
            "text/plain": [
              "33"
            ]
          },
          "metadata": {},
          "execution_count": 19
        }
      ]
    },
    {
      "cell_type": "code",
      "source": [
        "#Multiplication\n",
        "a*b"
      ],
      "metadata": {
        "id": "6ywM82rIGdkT",
        "colab": {
          "base_uri": "https://localhost:8080/"
        },
        "outputId": "74c8b9f6-db69-49ae-a242-e83881cf7e07"
      },
      "execution_count": 20,
      "outputs": [
        {
          "output_type": "execute_result",
          "data": {
            "text/plain": [
              "2278"
            ]
          },
          "metadata": {},
          "execution_count": 20
        }
      ]
    },
    {
      "cell_type": "code",
      "source": [
        "#division\n",
        "a/b"
      ],
      "metadata": {
        "id": "yuGl97BqGhYx",
        "colab": {
          "base_uri": "https://localhost:8080/"
        },
        "outputId": "eb41ac11-a7c5-46fe-9c8c-d5a69b487018"
      },
      "execution_count": 21,
      "outputs": [
        {
          "output_type": "execute_result",
          "data": {
            "text/plain": [
              "1.9705882352941178"
            ]
          },
          "metadata": {},
          "execution_count": 21
        }
      ]
    },
    {
      "cell_type": "markdown",
      "source": [
        "8. Write a program to demonstrate the use of logical operators.\n"
      ],
      "metadata": {
        "id": "yplt1cf6Gn2G"
      }
    },
    {
      "cell_type": "code",
      "source": [
        "#logical operators>> And , Or\n",
        "# And Operator\n",
        "#example 1\n",
        "True & True"
      ],
      "metadata": {
        "id": "Vr9Bfde0GyKn",
        "colab": {
          "base_uri": "https://localhost:8080/"
        },
        "outputId": "15992500-f71d-4f1e-8df0-3d5400e2595c"
      },
      "execution_count": 22,
      "outputs": [
        {
          "output_type": "execute_result",
          "data": {
            "text/plain": [
              "True"
            ]
          },
          "metadata": {},
          "execution_count": 22
        }
      ]
    },
    {
      "cell_type": "code",
      "source": [
        "a=4\n",
        "b=6\n",
        "c=10\n",
        "if( b>a) & c<=b:\n",
        "  print(\"Your condition is true\")\n"
      ],
      "metadata": {
        "id": "cgeVie10HDf0",
        "colab": {
          "base_uri": "https://localhost:8080/"
        },
        "outputId": "60981f68-219f-485c-f4e0-0b356cba82ef"
      },
      "execution_count": 23,
      "outputs": [
        {
          "output_type": "stream",
          "name": "stdout",
          "text": [
            "Your condition is true\n"
          ]
        }
      ]
    },
    {
      "cell_type": "code",
      "source": [
        "#or operator\n",
        "True or False"
      ],
      "metadata": {
        "id": "VIh5ZuKUHGLg",
        "colab": {
          "base_uri": "https://localhost:8080/"
        },
        "outputId": "b0c1a430-7fed-491f-88ec-52c67d24f16d"
      },
      "execution_count": 24,
      "outputs": [
        {
          "output_type": "execute_result",
          "data": {
            "text/plain": [
              "True"
            ]
          },
          "metadata": {},
          "execution_count": 24
        }
      ]
    },
    {
      "cell_type": "code",
      "source": [
        "False or False"
      ],
      "metadata": {
        "id": "d2hIQazXHX-Z",
        "colab": {
          "base_uri": "https://localhost:8080/"
        },
        "outputId": "986691d7-4396-43a5-ba43-4b0a7c364e47"
      },
      "execution_count": 25,
      "outputs": [
        {
          "output_type": "execute_result",
          "data": {
            "text/plain": [
              "False"
            ]
          },
          "metadata": {},
          "execution_count": 25
        }
      ]
    },
    {
      "cell_type": "code",
      "source": [
        "False or True"
      ],
      "metadata": {
        "id": "5SyyDsxFHaTH",
        "colab": {
          "base_uri": "https://localhost:8080/"
        },
        "outputId": "8bf196b2-fad0-4e43-8a73-86caac16f7ba"
      },
      "execution_count": 26,
      "outputs": [
        {
          "output_type": "execute_result",
          "data": {
            "text/plain": [
              "True"
            ]
          },
          "metadata": {},
          "execution_count": 26
        }
      ]
    },
    {
      "cell_type": "markdown",
      "source": [
        "9. Write a Python\n",
        "program to convert user input from string to integer, float, and boolean types."
      ],
      "metadata": {
        "id": "xk-7Pjq9HgPW"
      }
    },
    {
      "cell_type": "code",
      "source": [
        "value=input(\"enter a value\")\n",
        "\n"
      ],
      "metadata": {
        "id": "LzBRs_-QHdLH",
        "colab": {
          "base_uri": "https://localhost:8080/"
        },
        "outputId": "d1d854af-cfc6-4069-9343-8a3e227f5932"
      },
      "execution_count": 27,
      "outputs": [
        {
          "name": "stdout",
          "output_type": "stream",
          "text": [
            "enter a value5\n"
          ]
        }
      ]
    },
    {
      "cell_type": "code",
      "source": [
        "int(value)\n",
        "\n"
      ],
      "metadata": {
        "id": "1R5DtxsGH_jZ",
        "colab": {
          "base_uri": "https://localhost:8080/"
        },
        "outputId": "c9978789-f6b2-47c1-b98d-cd5dcc5db808"
      },
      "execution_count": 28,
      "outputs": [
        {
          "output_type": "execute_result",
          "data": {
            "text/plain": [
              "5"
            ]
          },
          "metadata": {},
          "execution_count": 28
        }
      ]
    },
    {
      "cell_type": "code",
      "source": [
        "float(value)"
      ],
      "metadata": {
        "id": "kmesNBG7IIUM",
        "colab": {
          "base_uri": "https://localhost:8080/"
        },
        "outputId": "c30db416-e909-4791-91d2-f8e4baec9609"
      },
      "execution_count": 29,
      "outputs": [
        {
          "output_type": "execute_result",
          "data": {
            "text/plain": [
              "5.0"
            ]
          },
          "metadata": {},
          "execution_count": 29
        }
      ]
    },
    {
      "cell_type": "code",
      "source": [
        "bool(\"5\")"
      ],
      "metadata": {
        "id": "pgqVYaPyINVZ",
        "colab": {
          "base_uri": "https://localhost:8080/"
        },
        "outputId": "01a136a7-153b-41bd-92c8-73452c995022"
      },
      "execution_count": 30,
      "outputs": [
        {
          "output_type": "execute_result",
          "data": {
            "text/plain": [
              "True"
            ]
          },
          "metadata": {},
          "execution_count": 30
        }
      ]
    },
    {
      "cell_type": "markdown",
      "source": [
        "10. Write code to demonstrate type casting with list elements.\n"
      ],
      "metadata": {
        "id": "DLizQ91vI2a9"
      }
    },
    {
      "cell_type": "code",
      "source": [
        "#type casting is basically of two types >> Implicit and Explicit\n",
        "\n",
        "#implicit type casting>> In this type Python already knows the data type\n",
        "l=[1,2,3.3,5+7, \"data analytics\"]\n",
        "l\n"
      ],
      "metadata": {
        "id": "EzQxrX7cI99R",
        "colab": {
          "base_uri": "https://localhost:8080/"
        },
        "outputId": "a5122a0c-a54a-4e74-f5f2-bfd41b3f556e"
      },
      "execution_count": 31,
      "outputs": [
        {
          "output_type": "execute_result",
          "data": {
            "text/plain": [
              "[1, 2, 3.3, 12, 'data analytics']"
            ]
          },
          "metadata": {},
          "execution_count": 31
        }
      ]
    },
    {
      "cell_type": "code",
      "source": [
        "type(l)"
      ],
      "metadata": {
        "id": "xnHnM-LHIPin",
        "colab": {
          "base_uri": "https://localhost:8080/"
        },
        "outputId": "340b5919-e797-44bf-9b3f-8a42f322e574"
      },
      "execution_count": 33,
      "outputs": [
        {
          "output_type": "execute_result",
          "data": {
            "text/plain": [
              "list"
            ]
          },
          "metadata": {},
          "execution_count": 33
        }
      ]
    },
    {
      "cell_type": "code",
      "source": [
        "#explicit type casting>> Python changes the data using the inbuilt functions\n",
        "a=\"hello\"\n",
        "list_type=list(a)\n",
        "print(list_type)\n"
      ],
      "metadata": {
        "id": "zOvkSSJELkBK",
        "colab": {
          "base_uri": "https://localhost:8080/"
        },
        "outputId": "53786d15-dc01-4a9f-8263-927ac40d999a"
      },
      "execution_count": 34,
      "outputs": [
        {
          "output_type": "stream",
          "name": "stdout",
          "text": [
            "['h', 'e', 'l', 'l', 'o']\n"
          ]
        }
      ]
    },
    {
      "cell_type": "markdown",
      "source": [
        "11. Write a program that checks if a number is positive, negative, or zero."
      ],
      "metadata": {
        "id": "T3VM9tlEL8z_"
      }
    },
    {
      "cell_type": "code",
      "source": [
        "#example\n",
        "\n",
        "Num=int(input(\"Enter a Number\"))\n",
        "if Num>0:\n",
        "  print(\"positive\")\n",
        "elif Num<0:\n",
        "  print(\"negative\")\n",
        "else :\n",
        "    print(\"zero\")\n",
        "\n",
        "\n"
      ],
      "metadata": {
        "id": "zBfbY5F0MDIi",
        "colab": {
          "base_uri": "https://localhost:8080/"
        },
        "outputId": "e1d1933a-122f-4638-ecf4-cb0d72dec77e"
      },
      "execution_count": 35,
      "outputs": [
        {
          "output_type": "stream",
          "name": "stdout",
          "text": [
            "Enter a Number8\n",
            "positive\n"
          ]
        }
      ]
    },
    {
      "cell_type": "code",
      "source": [
        "\n",
        "Num=int(input(\"Enter a Number\"))\n",
        "if Num>0:\n",
        "  print(\"positive\")\n",
        "elif Num<0:\n",
        "  print(\"negative\")\n",
        "else :\n",
        "    print(\"zero\")\n"
      ],
      "metadata": {
        "id": "-aP3l3KnMVe4",
        "colab": {
          "base_uri": "https://localhost:8080/"
        },
        "outputId": "3e706b98-0273-4502-ecae-8d7efcbceabc"
      },
      "execution_count": 36,
      "outputs": [
        {
          "output_type": "stream",
          "name": "stdout",
          "text": [
            "Enter a Number-4\n",
            "negative\n"
          ]
        }
      ]
    },
    {
      "cell_type": "code",
      "source": [
        "\n",
        "Num=int(input(\"Enter a Number\"))\n",
        "if Num>0:\n",
        "  print(\"positive\")\n",
        "elif Num<0:\n",
        "  print(\"negative\")\n",
        "else :\n",
        "    print(\"zero\")"
      ],
      "metadata": {
        "id": "UjSgnc59SCIX",
        "colab": {
          "base_uri": "https://localhost:8080/"
        },
        "outputId": "31e02590-330f-499b-f3bb-8f622113c6f1"
      },
      "execution_count": 37,
      "outputs": [
        {
          "output_type": "stream",
          "name": "stdout",
          "text": [
            "Enter a Number0\n",
            "zero\n"
          ]
        }
      ]
    },
    {
      "cell_type": "markdown",
      "source": [
        "12.Write a for loop to print numbers from 1 to 10."
      ],
      "metadata": {
        "id": "6uyrIjPVSFmX"
      }
    },
    {
      "cell_type": "code",
      "source": [
        "for a in range(11):\n",
        "  print(a,end=\" \")"
      ],
      "metadata": {
        "id": "osUEOcjkTATH",
        "colab": {
          "base_uri": "https://localhost:8080/"
        },
        "outputId": "f2db20ae-caf5-465d-fbde-4d9b9c4ee2f2"
      },
      "execution_count": 38,
      "outputs": [
        {
          "output_type": "stream",
          "name": "stdout",
          "text": [
            "0 1 2 3 4 5 6 7 8 9 10 "
          ]
        }
      ]
    },
    {
      "cell_type": "markdown",
      "source": [
        "13. Write a Python program to find the sum of all even numbers between 1 and 50."
      ],
      "metadata": {
        "id": "-n8ldjVNUAx5"
      }
    },
    {
      "cell_type": "code",
      "source": [
        "even_sum = 0\n",
        "\n",
        "for number in range(1, 51):\n",
        "    if number % 2 == 0:\n",
        "        even_sum += number\n",
        "\n",
        "print(\"The sum of all even numbers between 1 and 50 is:\",even_sum)\n",
        "\n",
        "\n",
        "\n",
        "\n",
        "\n"
      ],
      "metadata": {
        "id": "IP15T644TPgu",
        "colab": {
          "base_uri": "https://localhost:8080/"
        },
        "outputId": "c68d6788-b744-4e13-f10d-d4c7be8bd0dd"
      },
      "execution_count": 39,
      "outputs": [
        {
          "output_type": "stream",
          "name": "stdout",
          "text": [
            "The sum of all even numbers between 1 and 50 is: 650\n"
          ]
        }
      ]
    },
    {
      "cell_type": "markdown",
      "source": [
        "15.Write a Python program to calculate the factorial of a number provided by the user using a while loop."
      ],
      "metadata": {
        "id": "ajXRWeoOSm9D"
      }
    },
    {
      "cell_type": "code",
      "source": [
        "\n",
        "num = int(input(\"Enter a number to find its factorial: \"))\n",
        "\n",
        "\n",
        "factorial = 1\n",
        "i = 1\n",
        "\n",
        "while i <= num:\n",
        "    factorial *= i\n",
        "    i += 1\n",
        "\n",
        "print(f\"The factorial of {num} is: {factorial}\")\n"
      ],
      "metadata": {
        "colab": {
          "base_uri": "https://localhost:8080/"
        },
        "id": "0GtmaoLzIftp",
        "outputId": "05778947-43ef-443f-ce84-07809ebca9da"
      },
      "execution_count": 56,
      "outputs": [
        {
          "output_type": "stream",
          "name": "stdout",
          "text": [
            "Enter a number to find its factorial: 5\n",
            "The factorial of 5 is: 120\n"
          ]
        }
      ]
    },
    {
      "cell_type": "code",
      "source": [],
      "metadata": {
        "id": "ZhKpuaV4J25a"
      },
      "execution_count": 57,
      "outputs": []
    }
  ]
}